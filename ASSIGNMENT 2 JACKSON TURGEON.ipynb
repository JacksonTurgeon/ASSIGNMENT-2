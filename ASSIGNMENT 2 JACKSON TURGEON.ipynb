{
 "cells": [
  {
   "cell_type": "code",
   "execution_count": 1,
   "metadata": {
    "dotnet_interactive": {
     "language": "pwsh"
    },
    "polyglot_notebook": {
     "kernelName": "pwsh"
    }
   },
   "outputs": [
    {
     "name": "stdout",
     "output_type": "stream",
     "text": [
      "\u001b[31;1mJackson: \u001b[31;1mThe term 'Jackson' is not recognized as a name of a cmdlet, function, script file, or executable program.\u001b[0m\n",
      "\u001b[31;1m\u001b[31;1mCheck the spelling of the name, or if a path was included, verify that the path is correct and try again.\u001b[0m\n"
     ]
    }
   ],
   "source": [
    "JACKSON TURGEON W#0477765\n",
    "$number = Read-Host \"Enter a numeric value\"\n",
    "\n",
    "if ($number % 2 -eq 0) {\n",
    "    Write-Host \"EVEN\"\n",
    "}"
   ]
  },
  {
   "cell_type": "code",
   "execution_count": 2,
   "metadata": {
    "dotnet_interactive": {
     "language": "pwsh"
    },
    "polyglot_notebook": {
     "kernelName": "pwsh"
    }
   },
   "outputs": [],
   "source": [
    "$char = Read-Host \"Enter any letter\"\n",
    "\n",
    "if ($char -ge 'a' -and $char -le 'z') {\n",
    "    Write-Host \"letter\"\n",
    "}"
   ]
  },
  {
   "cell_type": "code",
   "execution_count": 3,
   "metadata": {
    "dotnet_interactive": {
     "language": "pwsh"
    },
    "polyglot_notebook": {
     "kernelName": "pwsh"
    }
   },
   "outputs": [
    {
     "ename": "Error",
     "evalue": "System.Management.Automation.InvalidPowerShellStateException: The state of the current PowerShell instance is not valid for this operation.\r\n   at System.Management.Automation.PowerShell.AssertChangesAreAccepted()\r\n   at System.Management.Automation.PSCommand.AddCommand(Command command)\r\n   at System.Management.Automation.PowerShell.AddCommand(CommandInfo commandInfo)\r\n   at Microsoft.DotNet.Interactive.PowerShell.PowerShellKernel.ReportError(ErrorRecord error) in D:\\a\\_work\\1\\s\\src\\Microsoft.DotNet.Interactive.PowerShell\\PowerShellKernel.cs:line 413\r\n   at Microsoft.DotNet.Interactive.PowerShell.PowerShellKernel.ReportException(Exception e) in D:\\a\\_work\\1\\s\\src\\Microsoft.DotNet.Interactive.PowerShell\\PowerShellKernel.cs:line 424\r\n   at Microsoft.DotNet.Interactive.PowerShell.PowerShellKernel.RunSubmitCodeLocally(String code) in D:\\a\\_work\\1\\s\\src\\Microsoft.DotNet.Interactive.PowerShell\\PowerShellKernel.cs:line 391\r\n   at Microsoft.DotNet.Interactive.PowerShell.PowerShellKernel.Microsoft.DotNet.Interactive.IKernelCommandHandler<Microsoft.DotNet.Interactive.Commands.SubmitCode>.HandleAsync(SubmitCode submitCode, KernelInvocationContext context) in D:\\a\\_work\\1\\s\\src\\Microsoft.DotNet.Interactive.PowerShell\\PowerShellKernel.cs:line 286\r\n   at Microsoft.DotNet.Interactive.Kernel.HandleAsync(KernelCommand command, KernelInvocationContext context) in D:\\a\\_work\\1\\s\\src\\Microsoft.DotNet.Interactive\\Kernel.cs:line 326\r\n   at Microsoft.DotNet.Interactive.KernelCommandPipeline.<BuildPipeline>b__6_0(KernelCommand command, KernelInvocationContext context, KernelPipelineContinuation _) in D:\\a\\_work\\1\\s\\src\\Microsoft.DotNet.Interactive\\KernelCommandPipeline.cs:line 60\r\n   at Microsoft.DotNet.Interactive.KernelCommandPipeline.SendAsync(KernelCommand command, KernelInvocationContext context) in D:\\a\\_work\\1\\s\\src\\Microsoft.DotNet.Interactive\\KernelCommandPipeline.cs:line 51",
     "output_type": "error",
     "traceback": [
      "System.Management.Automation.InvalidPowerShellStateException: The state of the current PowerShell instance is not valid for this operation.\r\n",
      "   at System.Management.Automation.PowerShell.AssertChangesAreAccepted()\r\n",
      "   at System.Management.Automation.PSCommand.AddCommand(Command command)\r\n",
      "   at System.Management.Automation.PowerShell.AddCommand(CommandInfo commandInfo)\r\n",
      "   at Microsoft.DotNet.Interactive.PowerShell.PowerShellKernel.ReportError(ErrorRecord error) in D:\\a\\_work\\1\\s\\src\\Microsoft.DotNet.Interactive.PowerShell\\PowerShellKernel.cs:line 413\r\n",
      "   at Microsoft.DotNet.Interactive.PowerShell.PowerShellKernel.ReportException(Exception e) in D:\\a\\_work\\1\\s\\src\\Microsoft.DotNet.Interactive.PowerShell\\PowerShellKernel.cs:line 424\r\n",
      "   at Microsoft.DotNet.Interactive.PowerShell.PowerShellKernel.RunSubmitCodeLocally(String code) in D:\\a\\_work\\1\\s\\src\\Microsoft.DotNet.Interactive.PowerShell\\PowerShellKernel.cs:line 391\r\n",
      "   at Microsoft.DotNet.Interactive.PowerShell.PowerShellKernel.Microsoft.DotNet.Interactive.IKernelCommandHandler<Microsoft.DotNet.Interactive.Commands.SubmitCode>.HandleAsync(SubmitCode submitCode, KernelInvocationContext context) in D:\\a\\_work\\1\\s\\src\\Microsoft.DotNet.Interactive.PowerShell\\PowerShellKernel.cs:line 286\r\n",
      "   at Microsoft.DotNet.Interactive.Kernel.HandleAsync(KernelCommand command, KernelInvocationContext context) in D:\\a\\_work\\1\\s\\src\\Microsoft.DotNet.Interactive\\Kernel.cs:line 326\r\n",
      "   at Microsoft.DotNet.Interactive.KernelCommandPipeline.<BuildPipeline>b__6_0(KernelCommand command, KernelInvocationContext context, KernelPipelineContinuation _) in D:\\a\\_work\\1\\s\\src\\Microsoft.DotNet.Interactive\\KernelCommandPipeline.cs:line 60\r\n",
      "   at Microsoft.DotNet.Interactive.KernelCommandPipeline.SendAsync(KernelCommand command, KernelInvocationContext context) in D:\\a\\_work\\1\\s\\src\\Microsoft.DotNet.Interactive\\KernelCommandPipeline.cs:line 51"
     ]
    }
   ],
   "source": [
    "if ($number -eq '12345') {\n",
    "    Write-Host \"UNLOCKED!\"\n",
    "} else {\n",
    "    Write-Host \"ALARM!\"\n",
    "}"
   ]
  },
  {
   "cell_type": "code",
   "execution_count": 4,
   "metadata": {
    "dotnet_interactive": {
     "language": "pwsh"
    },
    "polyglot_notebook": {
     "kernelName": "pwsh"
    }
   },
   "outputs": [
    {
     "name": "stdout",
     "output_type": "stream",
     "text": [
      "positive\r\n"
     ]
    }
   ],
   "source": [
    "$number = Read-Host \"am i positive negative or zero?\"\n",
    "\n",
    "if ($number -lt 0) {\n",
    "    Write-Host \"negative\"\n",
    "    } elseif ($number -gt 0) {\n",
    "    Write-Host \"positive\"\n",
    "} else {\n",
    "    Write-Host \"zero\"\n",
    "}"
   ]
  },
  {
   "cell_type": "code",
   "execution_count": 5,
   "metadata": {
    "dotnet_interactive": {
     "language": "pwsh"
    },
    "polyglot_notebook": {
     "kernelName": "pwsh"
    }
   },
   "outputs": [
    {
     "name": "stdout",
     "output_type": "stream",
     "text": [
      "Total amount on Day 30: $ 5,368,709.12\r\n"
     ]
    }
   ],
   "source": [
    "$amount = 0.01\n",
    "for ($day = 2; $day -le 30; $day++) {\n",
    "    $amount *= 2\n",
    "}\n",
    "$amountInDollars = [math]::Round($amount / 100, 2)\n",
    "Write-Host \"Total amount on Day 30: $ 5,368,709.12\""
   ]
  },
  {
   "cell_type": "code",
   "execution_count": 6,
   "metadata": {
    "dotnet_interactive": {
     "language": "pwsh"
    },
    "polyglot_notebook": {
     "kernelName": "pwsh"
    }
   },
   "outputs": [
    {
     "name": "stdout",
     "output_type": "stream",
     "text": [
      "\u001b[31;1mPart: \u001b[31;1mThe term 'Part' is not recognized as a name of a cmdlet, function, script file, or executable program.\u001b[0m\n",
      "\u001b[31;1m\u001b[31;1mCheck the spelling of the name, or if a path was included, verify that the path is correct and try again.\u001b[0m\n"
     ]
    }
   ],
   "source": [
    "Part B"
   ]
  },
  {
   "cell_type": "code",
   "execution_count": 7,
   "metadata": {
    "dotnet_interactive": {
     "language": "pwsh"
    },
    "polyglot_notebook": {
     "kernelName": "pwsh"
    }
   },
   "outputs": [
    {
     "name": "stdout",
     "output_type": "stream",
     "text": [
      "5 3 1 -1 -3 -5 \r\n"
     ]
    }
   ],
   "source": [
    "$output = \"\"\n",
    "for ($i = 5; $i -ge -5; $i -= 2) {\n",
    "    $output += \"$i \"\n",
    "}\n",
    "Write-Host $output"
   ]
  },
  {
   "cell_type": "code",
   "execution_count": 8,
   "metadata": {
    "dotnet_interactive": {
     "language": "pwsh"
    },
    "polyglot_notebook": {
     "kernelName": "pwsh"
    }
   },
   "outputs": [
    {
     "name": "stdout",
     "output_type": "stream",
     "text": [
      "False\r\n"
     ]
    }
   ],
   "source": [
    "10 -le 10 -and ($True -or $False) -and -not (4 -le 5)\n"
   ]
  },
  {
   "cell_type": "code",
   "execution_count": 9,
   "metadata": {
    "dotnet_interactive": {
     "language": "pwsh"
    },
    "polyglot_notebook": {
     "kernelName": "pwsh"
    }
   },
   "outputs": [
    {
     "name": "stdout",
     "output_type": "stream",
     "text": [
      "Thursday\r\n"
     ]
    }
   ],
   "source": [
    "$day = 5\n",
    "\n",
    "if ($day -ge 1 -and $day -le 7) {\n",
    "    $daysOfWeek = @(\"Sunday\", \"Monday\", \"Tuesday\", \"Wednesday\", \"Thursday\", \"Friday\", \"Saturday\")\n",
    "    $day = $daysOfWeek[$day - 1]\n",
    "}\n",
    "\n",
    "Write-Host $day\n"
   ]
  },
  {
   "cell_type": "code",
   "execution_count": 10,
   "metadata": {
    "dotnet_interactive": {
     "language": "pwsh"
    },
    "polyglot_notebook": {
     "kernelName": "pwsh"
    }
   },
   "outputs": [
    {
     "name": "stdout",
     "output_type": "stream",
     "text": [
      "Not yet. Keep trying!\r\n"
     ]
    }
   ],
   "source": [
    "$magic_num = 315\n",
    "$check = 0\n",
    "while ($check -lt 129) {\n",
    "    for ($i = 0; $i -lt 5; $i++) { \n",
    "        $magic_num -= 7\n",
    "    }\n",
    "    $check += 9\n",
    "}\n",
    "if ($magic_num -eq 0) {\n",
    "    Write-Host \"You found the magic number!\"\n",
    "} else {\n",
    "    Write-Host \"Not yet. Keep trying!\"\n",
    "}\n"
   ]
  },
  {
   "cell_type": "code",
   "execution_count": 11,
   "metadata": {
    "dotnet_interactive": {
     "language": "pwsh"
    },
    "polyglot_notebook": {
     "kernelName": "pwsh"
    }
   },
   "outputs": [],
   "source": []
  }
 ],
 "metadata": {
  "kernelspec": {
   "display_name": ".NET (C#)",
   "language": "C#",
   "name": ".net-csharp"
  },
  "language_info": {
   "name": "polyglot-notebook"
  },
  "orig_nbformat": 4,
  "polyglot_notebook": {
   "kernelInfo": {
    "defaultKernelName": "csharp",
    "items": [
     {
      "aliases": [],
      "name": "csharp"
     }
    ]
   }
  }
 },
 "nbformat": 4,
 "nbformat_minor": 2
}
